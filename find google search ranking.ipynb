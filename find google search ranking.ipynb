{
 "cells": [
  {
   "cell_type": "code",
   "execution_count": 1,
   "metadata": {},
   "outputs": [],
   "source": [
    "import sys\n",
    "import re\n",
    "import random\n",
    "from robobrowser import RoboBrowser\n",
    "import datetime\n",
    "import pandas as pd\n",
    "from openpyxl import load_workbook\n",
    "file = 'google搜尋排名.xlsx'\n",
    "df = pd.read_excel(file, sheet_name= '樣板')\n",
    "nrow = len(df['關鍵字'])\n",
    "agent = ['Mozilla/5.0 (Macintosh; Intel Mac OS X 10.12; rv:54.0) Gecko/20100101 Firefox/54.0',\n",
    "         'Mozilla/5.0 (Windows NT 10.0; Win64; x64) AppleWebKit/537.36 (KHTML, like Gecko) Chrome/59.0.3071.115 Safari/537.36',\n",
    "         'Mozilla/5.0 (Windows NT 10.0; WOW64; rv:54.0) Gecko/20100101 Firefox/54.0',\n",
    "         'Mozilla/5.0 (Windows NT 6.3; Win64; x64) AppleWebKit/537.36 (KHTML, like Gecko) Chrome/59.0.3071.115 Safari/537.36',\n",
    "         'Mozilla/5.0 (X11; Ubuntu; Linux x86_64; rv:54.0) Gecko/20100101 Firefox/54.0']\n",
    " \n",
    "parser = 'html.parser'\n",
    " \n",
    "browser = RoboBrowser(history=False,\n",
    "                      user_agent=random.choice(agent),\n",
    "                      parser=parser)\n",
    "now = datetime.date.today().strftime(\"%m_%d\")"
   ]
  },
  {
   "cell_type": "code",
   "execution_count": 4,
   "metadata": {},
   "outputs": [],
   "source": [
    "for j in range(0,nrow):\n",
    "    keyword = df.iloc[j]['關鍵字']\n",
    "    sitename = df.iloc[j]['網址']\n",
    "    browser.open('https://www.google.com/search?num=100&q=' + keyword)\n",
    "    links = browser.find_all(\"div\", {\"class\": \"g\"})\n",
    "    counter = 0\n",
    "    for i in links:\n",
    "        counter = counter + 1\n",
    "        if sitename in str(i):\n",
    "            url = i.find_all('a', href=True)\n",
    "            position = \"%d\" % (counter)\n",
    "            rank = \"%s\" % (url[0]['href'])\n",
    "            df.iloc[j,df.columns.get_loc('排名')]=position\n",
    "            df.iloc[j,df.columns.get_loc('搜到頁面')]=rank"
   ]
  },
  {
   "cell_type": "code",
   "execution_count": 6,
   "metadata": {},
   "outputs": [],
   "source": [
    "book = load_workbook(file)\n",
    "writer = pd.ExcelWriter(file, engine='openpyxl')\n",
    "writer.book = book\n",
    "\n",
    "\n",
    "df.to_excel(writer, sheet_name=now)\n",
    "writer.save()\n",
    "writer.close()"
   ]
  },
  {
   "cell_type": "code",
   "execution_count": 11,
   "metadata": {},
   "outputs": [
    {
     "name": "stdout",
     "output_type": "stream",
     "text": [
      "印字機 61 http://www.yulishih.com.tw/353-marking-machine.html 15-12-2019\n"
     ]
    }
   ],
   "source": [
    "#d=[]\n",
    "#for i in links:\n",
    "#    counter = counter + 1\n",
    "#    if sitename in str(i):\n",
    "#        url = i.find_all('a', href=True)\n",
    "#        position = \"%d\" % (counter)\n",
    "#        rank = \"%s\" % (url[0]['href'])\n",
    "#        now = datetime.date.today().strftime(\"%d-%m-%Y\")\n",
    "#        keyword = keyword\n",
    "#        d.append(keyword)\n",
    "#        d.append(position)\n",
    "#        d.append(rank)\n",
    "#        d.append(now)\n",
    "#        print(keyword, position, rank, now)\n",
    "# \n",
    "#        \n",
    "#file =datetime.date.today().strftime(\"%d-%m-%Y\")+'-' +keyword + '.csv'\n",
    "#with open(file, 'w') as f:\n",
    "#    writer = csv.writer(f)\n",
    "#    writer.writerow(['Keyword' , 'Rank', 'URL' , 'Date'])\n",
    "#    writer.writerows(zip( d[0::4], d[1::4] , d[2::4], d[3::4]))"
   ]
  }
 ],
 "metadata": {
  "kernelspec": {
   "display_name": "Python 3",
   "language": "python",
   "name": "python3"
  },
  "language_info": {
   "codemirror_mode": {
    "name": "ipython",
    "version": 3
   },
   "file_extension": ".py",
   "mimetype": "text/x-python",
   "name": "python",
   "nbconvert_exporter": "python",
   "pygments_lexer": "ipython3",
   "version": "3.7.1"
  }
 },
 "nbformat": 4,
 "nbformat_minor": 2
}
